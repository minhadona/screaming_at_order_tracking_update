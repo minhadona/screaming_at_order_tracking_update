{
 "cells": [
  {
   "cell_type": "code",
   "execution_count": 1,
   "metadata": {},
   "outputs": [],
   "source": [
    "# !pip3 install beautifulsoup4\n",
    "# !pip3 install pandas\n",
    "# !pip3 install requests\n",
    "# !pip3 install more-itertools"
   ]
  },
  {
   "cell_type": "code",
   "execution_count": 58,
   "metadata": {},
   "outputs": [],
   "source": [
    "from bs4 import BeautifulSoup\n",
    "import requests\n",
    "import pandas as pd \n",
    "from more_itertools import grouper\n",
    "import itertools\n",
    "from datetime import datetime"
   ]
  },
  {
   "cell_type": "code",
   "execution_count": 59,
   "metadata": {},
   "outputs": [],
   "source": [
    "# CLASS BY Daniel Ellis, FROM:\n",
    "# https://betterprogramming.pub/custom-system-notifications-from-python-mac-5ff42e71214 \n",
    "\n",
    "from os import system\n",
    "import time\n",
    "\n",
    "class Alerts:\n",
    "\n",
    "  def sound(self, noise = '/System/Library/Sounds/Submarine.aiff'):\n",
    "    system(f'afplay {noise}')\n",
    "\n",
    "  \n",
    "  def repeat(self, times = 4, delay = 1, noise =  '/System/Library/Sounds/Submarine.aiff'):\n",
    "           for i in range(times):\n",
    "                sound(noise)\n",
    "                time.sleep(delay)\n",
    "  \n",
    "  def announce(self, text = 'The program has finished'):\n",
    "           system(f'say \"{text}\" &')\n",
    " \n",
    "  def notification(self, message='Notification from Python', app = 'Terminal'):\n",
    "           system(f'osascript -e \\'tell application \"{app}\" to display alert \"{message}\"\\'&')\n",
    "\n",
    "  #speak and notification    \n",
    "  def notify(self, message='Finished',app='Terminal'): \n",
    "      system(f'say \"{message}\"& osascript -e \\'tell application \"{app}\" to display alert \"{message}\"\\'&')\n",
    "\n",
    "  \n",
    "  @property\n",
    "  def beep(self):\n",
    "    self.repeat(10,1)\n",
    "      \n",
    "  end = property(notify)"
   ]
  },
  {
   "cell_type": "code",
   "execution_count": 60,
   "metadata": {},
   "outputs": [],
   "source": [
    "headers = {'user-agent': 'Mozilla/5.0 (Macintosh; Intel Mac OS X 10_11_6) AppleWebKit/537.36 (KHTML, like Gecko) Chrome/53.0.2785.143 Safari/537.36'}\n",
    "numero_da_remessa = '20220011914670'\n",
    "r = requests.get(f'https://corporativo.directlog.com.br/track_individual/index.asp?numtracking={numero_da_remessa}',\n",
    "                headers=headers,\n",
    "                timeout=5)\n",
    "\n",
    "soup = BeautifulSoup(r.content, 'html.parser')\n",
    "tables = soup.find_all(\"table\")\n",
    "table = tables[7] # for directlog tracking there's no other way to identify the table :("
   ]
  },
  {
   "cell_type": "code",
   "execution_count": 62,
   "metadata": {},
   "outputs": [
    {
     "name": "stdout",
     "output_type": "stream",
     "text": [
      "data:  ['DATA', 'HORA', 'OPERAÇÃO', 'LOCAL', 'OBSERVAÇÃO', '31/05/2022', '18:14', 'Recebimento de Remessa por Api', '', '', '31/05/2022', '18:35', 'Geração da Remessa (CAT)', 'Seropédica', 'ARQUIVO - Remessa número : 20220011914670', '31/05/2022', '21:59', 'Remessa em Transferência (EAA)', 'Seropédica', '', '01/06/2022', '03:43', 'Remessa Transferida (PET)', 'Guarulhos', '', '01/06/2022', '07:52', 'Remessa em Rota (EEB)', 'Guarulhos', '', '01/06/2022', '12:58', 'Remessa Entregue (EAT)', 'Guarulhos', '', 'None']\n",
      "\n",
      "\n",
      " DON'T DELETE THE last_number_of_lines.txt FILE, IT'S THE CONTROL SO WE KNOW IF WE HAD ANY UPDATES ON THE ORDER TRACKING TABLE\n",
      "\n",
      "\n",
      "OK, we got some update on your tracking\n",
      "updating row control txt: current amount of rows on table: 8 \n",
      "exporting now CSV with current tracking state stolen on website\n",
      "\n",
      "\n",
      "            0      1                               2           3  \\\n",
      "0        DATA   HORA                        OPERAÇÃO       LOCAL   \n",
      "1  31/05/2022  18:14  Recebimento de Remessa por Api               \n",
      "2  31/05/2022  18:35        Geração da Remessa (CAT)  Seropédica   \n",
      "3  31/05/2022  21:59  Remessa em Transferência (EAA)  Seropédica   \n",
      "4  01/06/2022  03:43       Remessa Transferida (PET)   Guarulhos   \n",
      "5  01/06/2022  07:52           Remessa em Rota (EEB)   Guarulhos   \n",
      "6  01/06/2022  12:58          Remessa Entregue (EAT)   Guarulhos   \n",
      "7        None   None                            None        None   \n",
      "\n",
      "                                           4  \n",
      "0                                 OBSERVAÇÃO  \n",
      "1                                             \n",
      "2  ARQUIVO - Remessa número : 20220011914670  \n",
      "3                                             \n",
      "4                                             \n",
      "5                                             \n",
      "6                                             \n",
      "7                                       None  \n",
      "exported csv!\n"
     ]
    },
    {
     "name": "stderr",
     "output_type": "stream",
     "text": [
      "41:140: execution error: System Preferences got an error: AppleEvent timed out. (-1712)\n"
     ]
    }
   ],
   "source": [
    "data = []\n",
    "for column_number, column in enumerate(table.find_all('td')):\n",
    "    if column_number== 0:\n",
    "         # this is an empty line idk what's doin' there\n",
    "        continue\n",
    "\n",
    "    for row_number,row in enumerate(table.find('tr')): \n",
    "        content = str(column.find('b'))\n",
    "        content = content.replace(\"<b>\",\"\").replace(\"</b>\",\"\").replace(\"<br/>\",\"\")\n",
    "        data.append(content)\n",
    "   \n",
    "\n",
    "print(f'data: ',data)\n",
    "list_of_lists = list(grouper(data, 5, fillvalue=None))\n",
    "\n",
    "if not os.path.exists(os.getcwd()+'//last_number_of_lines.txt'): # se arquivo de linhas, nao existir, é porque script ainda nao rodou\n",
    "    with open('last_number_of_lines.txt','w', encoding='utf-8') as text_file: \n",
    "        text_file.write(str(1))\n",
    "        print(\"\\n\\nDON'T DELETE THE last_number_of_lines.txt FILE, IT'S THE CONTROL SO WE KNOW IF WE HAD ANY UPDATES ON THE ORDER TRACKING TABLE\")\n",
    "\n",
    "with open('last_number_of_lines.txt','r', encoding='utf-8') as text_file:\n",
    "    n_linhas = int(text_file.read())\n",
    "\n",
    "if len(list_of_lists) > n_linhas: # length 1 is always the header, if len is 2 it means we have at least 1 line with real data of the order tracking update\n",
    "                                     # IMPROVEMENT POINT: datetime concat + comparison with current datetime instead of amount of table rows\n",
    "    print('\\n\\nOK, we got some update on your tracking')\n",
    "    info = Alerts()\n",
    "    info.notify(message ='THERE WAS AN UPDATE ON YOUR PACK! check where your order is! it might be arriving! ',app = 'System Preferences')\n",
    "    with open('last_number_of_lines.txt','w', encoding='utf-8') as text_file: \n",
    "        text_file.write(str(len(list_of_lists)))\n",
    "    print(f'updating row control txt: current amount of rows on table: {len(list_of_lists)} \\nexporting now CSV with current tracking state stolen on website\\n\\n')\n",
    "    df = pd.DataFrame(list_of_lists)\n",
    "    print(df)\n",
    "    datestamp = datetime.now().strftime(\"%Y_%m_%d-%H_%M_%S\")\n",
    "    filename = f'./a-{datestamp}.csv'\n",
    "    df.to_csv(filename, header=False)\n",
    "    print('exported csv!')\n",
    "\n",
    "else:\n",
    "    print('\\n\\n sorry, no updates on your table!')"
   ]
  }
 ],
 "metadata": {
  "interpreter": {
   "hash": "aee8b7b246df8f9039afb4144a1f6fd8d2ca17a180786b69acc140d282b71a49"
  },
  "kernelspec": {
   "display_name": "Python 3.9.9 64-bit",
   "language": "python",
   "name": "python3"
  },
  "language_info": {
   "codemirror_mode": {
    "name": "ipython",
    "version": 3
   },
   "file_extension": ".py",
   "mimetype": "text/x-python",
   "name": "python",
   "nbconvert_exporter": "python",
   "pygments_lexer": "ipython3",
   "version": "3.9.13"
  },
  "orig_nbformat": 4
 },
 "nbformat": 4,
 "nbformat_minor": 2
}
